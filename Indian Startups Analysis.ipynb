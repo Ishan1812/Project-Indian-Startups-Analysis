{
 "cells": [
  {
   "cell_type": "markdown",
   "id": "f6260cb7",
   "metadata": {},
   "source": [
    "# DataSet Details\n",
    "The dataset (startups_Data.csv) has information about the Top 300 startups in India.\n",
    "\n",
    "##### Feature Details:\n",
    "\n",
    "1. Company - Name of the Startup.\n",
    "2. City - The City in which the startup is started.\n",
    "3. Starting Year - The Year in which the startup was started.\n",
    "4. Founders - Name of the founders of the startup.\n",
    "5. Industries - Industrial domain in which the startup falls.\n",
    "6. No. of Employees - Number of employees in the startup.\n",
    "7. Funding Amount in USD - Total funding amount funded to the startup.\n",
    "8. Funding Rounds - Funding rounds are the number of times a startup goes back to the market to raise more capital. The goal of every round is for founders to trade equity in their business for the capital they can utilize to advance their companies to the next level.\n",
    "9. No. of Investors - Number of investors in the startup.\n"
   ]
  },
  {
   "cell_type": "markdown",
   "id": "ac924446",
   "metadata": {},
   "source": [
    "## Data Pre-processing"
   ]
  },
  {
   "cell_type": "code",
   "execution_count": 1,
   "id": "ba01fb94",
   "metadata": {},
   "outputs": [
    {
     "data": {
      "text/html": [
       "<div>\n",
       "<style scoped>\n",
       "    .dataframe tbody tr th:only-of-type {\n",
       "        vertical-align: middle;\n",
       "    }\n",
       "\n",
       "    .dataframe tbody tr th {\n",
       "        vertical-align: top;\n",
       "    }\n",
       "\n",
       "    .dataframe thead th {\n",
       "        text-align: right;\n",
       "    }\n",
       "</style>\n",
       "<table border=\"1\" class=\"dataframe\">\n",
       "  <thead>\n",
       "    <tr style=\"text-align: right;\">\n",
       "      <th></th>\n",
       "      <th>Unnamed: 0</th>\n",
       "      <th>Company</th>\n",
       "      <th>City</th>\n",
       "      <th>Starting Year</th>\n",
       "      <th>Founders</th>\n",
       "      <th>Industries</th>\n",
       "      <th>Description</th>\n",
       "      <th>No. of Employees</th>\n",
       "      <th>Funding Amount in $</th>\n",
       "      <th>Funding Round</th>\n",
       "      <th>No. of Investors</th>\n",
       "    </tr>\n",
       "  </thead>\n",
       "  <tbody>\n",
       "    <tr>\n",
       "      <th>0</th>\n",
       "      <td>0</td>\n",
       "      <td>Urban Company</td>\n",
       "      <td>Gurgaon</td>\n",
       "      <td>2014</td>\n",
       "      <td>Abhiraj Singh Bhal, Raghav Chandra, Varun Khaitan</td>\n",
       "      <td>Apps, Home Services, Marketplace, Service Indu...</td>\n",
       "      <td>Urban is a marketplace for independent contrac...</td>\n",
       "      <td>1001-5000</td>\n",
       "      <td>445920356</td>\n",
       "      <td>12</td>\n",
       "      <td>16</td>\n",
       "    </tr>\n",
       "    <tr>\n",
       "      <th>1</th>\n",
       "      <td>1</td>\n",
       "      <td>Classplus</td>\n",
       "      <td>Noida</td>\n",
       "      <td>2018</td>\n",
       "      <td>Bhaswat Agarwal, Bikash Dash, Mukul Rustagi, N...</td>\n",
       "      <td>B2B, E-Learning, EdTech, Education, Mobile App...</td>\n",
       "      <td>Classplus is a mobile-first SaaS platform that...</td>\n",
       "      <td>101-250</td>\n",
       "      <td>89506451</td>\n",
       "      <td>10</td>\n",
       "      <td>20</td>\n",
       "    </tr>\n",
       "    <tr>\n",
       "      <th>2</th>\n",
       "      <td>2</td>\n",
       "      <td>Paytm</td>\n",
       "      <td>Noida</td>\n",
       "      <td>2010</td>\n",
       "      <td>Akshay Khanna, Vijay Shekhar Sharma</td>\n",
       "      <td>E-Commerce, Finance, Financial Services, Inter...</td>\n",
       "      <td>Paytm is a payment gateway that allows users a...</td>\n",
       "      <td>501-1000</td>\n",
       "      <td>32448851</td>\n",
       "      <td>4</td>\n",
       "      <td>4</td>\n",
       "    </tr>\n",
       "    <tr>\n",
       "      <th>3</th>\n",
       "      <td>3</td>\n",
       "      <td>Apna</td>\n",
       "      <td>Mumbai</td>\n",
       "      <td>2019</td>\n",
       "      <td>Nirmit Parikh</td>\n",
       "      <td>Employment, Human Resources, Recruiting, Staff...</td>\n",
       "      <td>Apna is a professional networking and job-sear...</td>\n",
       "      <td>101-250</td>\n",
       "      <td>93450000</td>\n",
       "      <td>4</td>\n",
       "      <td>6</td>\n",
       "    </tr>\n",
       "    <tr>\n",
       "      <th>4</th>\n",
       "      <td>4</td>\n",
       "      <td>Razorpay</td>\n",
       "      <td>Bengaluru</td>\n",
       "      <td>2014</td>\n",
       "      <td>Harshil Mathur, Shashank Kumar</td>\n",
       "      <td>Financial Services, FinTech, Payments, Software</td>\n",
       "      <td>Razorpay is a payment acceptance, processing, ...</td>\n",
       "      <td>1001-5000</td>\n",
       "      <td>366600000</td>\n",
       "      <td>7</td>\n",
       "      <td>29</td>\n",
       "    </tr>\n",
       "  </tbody>\n",
       "</table>\n",
       "</div>"
      ],
      "text/plain": [
       "   Unnamed: 0        Company       City  Starting Year  \\\n",
       "0           0  Urban Company    Gurgaon           2014   \n",
       "1           1      Classplus      Noida           2018   \n",
       "2           2          Paytm      Noida           2010   \n",
       "3           3           Apna     Mumbai           2019   \n",
       "4           4       Razorpay  Bengaluru           2014   \n",
       "\n",
       "                                            Founders  \\\n",
       "0  Abhiraj Singh Bhal, Raghav Chandra, Varun Khaitan   \n",
       "1  Bhaswat Agarwal, Bikash Dash, Mukul Rustagi, N...   \n",
       "2                Akshay Khanna, Vijay Shekhar Sharma   \n",
       "3                                      Nirmit Parikh   \n",
       "4                     Harshil Mathur, Shashank Kumar   \n",
       "\n",
       "                                          Industries  \\\n",
       "0  Apps, Home Services, Marketplace, Service Indu...   \n",
       "1  B2B, E-Learning, EdTech, Education, Mobile App...   \n",
       "2  E-Commerce, Finance, Financial Services, Inter...   \n",
       "3  Employment, Human Resources, Recruiting, Staff...   \n",
       "4    Financial Services, FinTech, Payments, Software   \n",
       "\n",
       "                                         Description No. of Employees  \\\n",
       "0  Urban is a marketplace for independent contrac...        1001-5000   \n",
       "1  Classplus is a mobile-first SaaS platform that...          101-250   \n",
       "2  Paytm is a payment gateway that allows users a...         501-1000   \n",
       "3  Apna is a professional networking and job-sear...          101-250   \n",
       "4  Razorpay is a payment acceptance, processing, ...        1001-5000   \n",
       "\n",
       "   Funding Amount in $  Funding Round  No. of Investors  \n",
       "0            445920356             12                16  \n",
       "1             89506451             10                20  \n",
       "2             32448851              4                 4  \n",
       "3             93450000              4                 6  \n",
       "4            366600000              7                29  "
      ]
     },
     "execution_count": 1,
     "metadata": {},
     "output_type": "execute_result"
    }
   ],
   "source": [
    "import pandas as pd\n",
    "import numpy as np\n",
    "data = pd.read_csv(\"startups_Data.csv\",skipinitialspace = True)\n",
    "data.head()"
   ]
  },
  {
   "cell_type": "code",
   "execution_count": 2,
   "id": "61523098",
   "metadata": {},
   "outputs": [
    {
     "data": {
      "text/plain": [
       "(300, 11)"
      ]
     },
     "execution_count": 2,
     "metadata": {},
     "output_type": "execute_result"
    }
   ],
   "source": [
    "#This is to see number of rows and columns in dataset\n",
    "data.shape"
   ]
  },
  {
   "cell_type": "code",
   "execution_count": 3,
   "id": "1b46ef4b",
   "metadata": {},
   "outputs": [
    {
     "name": "stdout",
     "output_type": "stream",
     "text": [
      "<class 'pandas.core.frame.DataFrame'>\n",
      "RangeIndex: 300 entries, 0 to 299\n",
      "Data columns (total 11 columns):\n",
      " #   Column               Non-Null Count  Dtype \n",
      "---  ------               --------------  ----- \n",
      " 0   Unnamed: 0           300 non-null    int64 \n",
      " 1   Company              300 non-null    object\n",
      " 2   City                 300 non-null    object\n",
      " 3   Starting Year        300 non-null    int64 \n",
      " 4   Founders             300 non-null    object\n",
      " 5   Industries           300 non-null    object\n",
      " 6   Description          300 non-null    object\n",
      " 7   No. of Employees     300 non-null    object\n",
      " 8   Funding Amount in $  300 non-null    int64 \n",
      " 9   Funding Round        300 non-null    int64 \n",
      " 10  No. of Investors     300 non-null    int64 \n",
      "dtypes: int64(5), object(6)\n",
      "memory usage: 25.9+ KB\n"
     ]
    }
   ],
   "source": [
    "data.info()"
   ]
  },
  {
   "cell_type": "code",
   "execution_count": 4,
   "id": "9d4132a2",
   "metadata": {},
   "outputs": [
    {
     "data": {
      "text/html": [
       "<div>\n",
       "<style scoped>\n",
       "    .dataframe tbody tr th:only-of-type {\n",
       "        vertical-align: middle;\n",
       "    }\n",
       "\n",
       "    .dataframe tbody tr th {\n",
       "        vertical-align: top;\n",
       "    }\n",
       "\n",
       "    .dataframe thead th {\n",
       "        text-align: right;\n",
       "    }\n",
       "</style>\n",
       "<table border=\"1\" class=\"dataframe\">\n",
       "  <thead>\n",
       "    <tr style=\"text-align: right;\">\n",
       "      <th></th>\n",
       "      <th>Unnamed: 0</th>\n",
       "      <th>Starting Year</th>\n",
       "      <th>Funding Amount in $</th>\n",
       "      <th>Funding Round</th>\n",
       "      <th>No. of Investors</th>\n",
       "    </tr>\n",
       "  </thead>\n",
       "  <tbody>\n",
       "    <tr>\n",
       "      <th>count</th>\n",
       "      <td>300.000000</td>\n",
       "      <td>300.000000</td>\n",
       "      <td>3.000000e+02</td>\n",
       "      <td>300.000000</td>\n",
       "      <td>300.000000</td>\n",
       "    </tr>\n",
       "    <tr>\n",
       "      <th>mean</th>\n",
       "      <td>149.500000</td>\n",
       "      <td>2013.393333</td>\n",
       "      <td>3.148655e+08</td>\n",
       "      <td>5.986667</td>\n",
       "      <td>10.550000</td>\n",
       "    </tr>\n",
       "    <tr>\n",
       "      <th>std</th>\n",
       "      <td>86.746758</td>\n",
       "      <td>5.139390</td>\n",
       "      <td>1.628802e+09</td>\n",
       "      <td>4.239465</td>\n",
       "      <td>7.530151</td>\n",
       "    </tr>\n",
       "    <tr>\n",
       "      <th>min</th>\n",
       "      <td>0.000000</td>\n",
       "      <td>1984.000000</td>\n",
       "      <td>0.000000e+00</td>\n",
       "      <td>0.000000</td>\n",
       "      <td>0.000000</td>\n",
       "    </tr>\n",
       "    <tr>\n",
       "      <th>25%</th>\n",
       "      <td>74.750000</td>\n",
       "      <td>2012.000000</td>\n",
       "      <td>1.428738e+07</td>\n",
       "      <td>3.000000</td>\n",
       "      <td>5.000000</td>\n",
       "    </tr>\n",
       "    <tr>\n",
       "      <th>50%</th>\n",
       "      <td>149.500000</td>\n",
       "      <td>2015.000000</td>\n",
       "      <td>4.108773e+07</td>\n",
       "      <td>5.000000</td>\n",
       "      <td>9.000000</td>\n",
       "    </tr>\n",
       "    <tr>\n",
       "      <th>75%</th>\n",
       "      <td>224.250000</td>\n",
       "      <td>2016.000000</td>\n",
       "      <td>1.319438e+08</td>\n",
       "      <td>7.000000</td>\n",
       "      <td>14.000000</td>\n",
       "    </tr>\n",
       "    <tr>\n",
       "      <th>max</th>\n",
       "      <td>299.000000</td>\n",
       "      <td>2020.000000</td>\n",
       "      <td>2.476762e+10</td>\n",
       "      <td>25.000000</td>\n",
       "      <td>45.000000</td>\n",
       "    </tr>\n",
       "  </tbody>\n",
       "</table>\n",
       "</div>"
      ],
      "text/plain": [
       "       Unnamed: 0  Starting Year  Funding Amount in $  Funding Round  \\\n",
       "count  300.000000     300.000000         3.000000e+02     300.000000   \n",
       "mean   149.500000    2013.393333         3.148655e+08       5.986667   \n",
       "std     86.746758       5.139390         1.628802e+09       4.239465   \n",
       "min      0.000000    1984.000000         0.000000e+00       0.000000   \n",
       "25%     74.750000    2012.000000         1.428738e+07       3.000000   \n",
       "50%    149.500000    2015.000000         4.108773e+07       5.000000   \n",
       "75%    224.250000    2016.000000         1.319438e+08       7.000000   \n",
       "max    299.000000    2020.000000         2.476762e+10      25.000000   \n",
       "\n",
       "       No. of Investors  \n",
       "count        300.000000  \n",
       "mean          10.550000  \n",
       "std            7.530151  \n",
       "min            0.000000  \n",
       "25%            5.000000  \n",
       "50%            9.000000  \n",
       "75%           14.000000  \n",
       "max           45.000000  "
      ]
     },
     "execution_count": 4,
     "metadata": {},
     "output_type": "execute_result"
    }
   ],
   "source": [
    "data.describe()"
   ]
  },
  {
   "cell_type": "code",
   "execution_count": 5,
   "id": "8eabaa48",
   "metadata": {},
   "outputs": [],
   "source": [
    "#Our Dataset has additional column of index, Lets delete it\n",
    "del data[\"Unnamed: 0\"]"
   ]
  },
  {
   "cell_type": "code",
   "execution_count": 6,
   "id": "a2b8b36a",
   "metadata": {},
   "outputs": [
    {
     "data": {
      "text/html": [
       "<div>\n",
       "<style scoped>\n",
       "    .dataframe tbody tr th:only-of-type {\n",
       "        vertical-align: middle;\n",
       "    }\n",
       "\n",
       "    .dataframe tbody tr th {\n",
       "        vertical-align: top;\n",
       "    }\n",
       "\n",
       "    .dataframe thead th {\n",
       "        text-align: right;\n",
       "    }\n",
       "</style>\n",
       "<table border=\"1\" class=\"dataframe\">\n",
       "  <thead>\n",
       "    <tr style=\"text-align: right;\">\n",
       "      <th></th>\n",
       "      <th>Company</th>\n",
       "      <th>City</th>\n",
       "      <th>Starting Year</th>\n",
       "      <th>Founders</th>\n",
       "      <th>Industries</th>\n",
       "      <th>Description</th>\n",
       "      <th>No. of Employees</th>\n",
       "      <th>Funding Amount in $</th>\n",
       "      <th>Funding Round</th>\n",
       "      <th>No. of Investors</th>\n",
       "    </tr>\n",
       "  </thead>\n",
       "  <tbody>\n",
       "    <tr>\n",
       "      <th>0</th>\n",
       "      <td>Urban Company</td>\n",
       "      <td>Gurgaon</td>\n",
       "      <td>2014</td>\n",
       "      <td>Abhiraj Singh Bhal, Raghav Chandra, Varun Khaitan</td>\n",
       "      <td>Apps, Home Services, Marketplace, Service Indu...</td>\n",
       "      <td>Urban is a marketplace for independent contrac...</td>\n",
       "      <td>1001-5000</td>\n",
       "      <td>445920356</td>\n",
       "      <td>12</td>\n",
       "      <td>16</td>\n",
       "    </tr>\n",
       "    <tr>\n",
       "      <th>1</th>\n",
       "      <td>Classplus</td>\n",
       "      <td>Noida</td>\n",
       "      <td>2018</td>\n",
       "      <td>Bhaswat Agarwal, Bikash Dash, Mukul Rustagi, N...</td>\n",
       "      <td>B2B, E-Learning, EdTech, Education, Mobile App...</td>\n",
       "      <td>Classplus is a mobile-first SaaS platform that...</td>\n",
       "      <td>101-250</td>\n",
       "      <td>89506451</td>\n",
       "      <td>10</td>\n",
       "      <td>20</td>\n",
       "    </tr>\n",
       "    <tr>\n",
       "      <th>2</th>\n",
       "      <td>Paytm</td>\n",
       "      <td>Noida</td>\n",
       "      <td>2010</td>\n",
       "      <td>Akshay Khanna, Vijay Shekhar Sharma</td>\n",
       "      <td>E-Commerce, Finance, Financial Services, Inter...</td>\n",
       "      <td>Paytm is a payment gateway that allows users a...</td>\n",
       "      <td>501-1000</td>\n",
       "      <td>32448851</td>\n",
       "      <td>4</td>\n",
       "      <td>4</td>\n",
       "    </tr>\n",
       "    <tr>\n",
       "      <th>3</th>\n",
       "      <td>Apna</td>\n",
       "      <td>Mumbai</td>\n",
       "      <td>2019</td>\n",
       "      <td>Nirmit Parikh</td>\n",
       "      <td>Employment, Human Resources, Recruiting, Staff...</td>\n",
       "      <td>Apna is a professional networking and job-sear...</td>\n",
       "      <td>101-250</td>\n",
       "      <td>93450000</td>\n",
       "      <td>4</td>\n",
       "      <td>6</td>\n",
       "    </tr>\n",
       "    <tr>\n",
       "      <th>4</th>\n",
       "      <td>Razorpay</td>\n",
       "      <td>Bengaluru</td>\n",
       "      <td>2014</td>\n",
       "      <td>Harshil Mathur, Shashank Kumar</td>\n",
       "      <td>Financial Services, FinTech, Payments, Software</td>\n",
       "      <td>Razorpay is a payment acceptance, processing, ...</td>\n",
       "      <td>1001-5000</td>\n",
       "      <td>366600000</td>\n",
       "      <td>7</td>\n",
       "      <td>29</td>\n",
       "    </tr>\n",
       "  </tbody>\n",
       "</table>\n",
       "</div>"
      ],
      "text/plain": [
       "         Company       City  Starting Year  \\\n",
       "0  Urban Company    Gurgaon           2014   \n",
       "1      Classplus      Noida           2018   \n",
       "2          Paytm      Noida           2010   \n",
       "3           Apna     Mumbai           2019   \n",
       "4       Razorpay  Bengaluru           2014   \n",
       "\n",
       "                                            Founders  \\\n",
       "0  Abhiraj Singh Bhal, Raghav Chandra, Varun Khaitan   \n",
       "1  Bhaswat Agarwal, Bikash Dash, Mukul Rustagi, N...   \n",
       "2                Akshay Khanna, Vijay Shekhar Sharma   \n",
       "3                                      Nirmit Parikh   \n",
       "4                     Harshil Mathur, Shashank Kumar   \n",
       "\n",
       "                                          Industries  \\\n",
       "0  Apps, Home Services, Marketplace, Service Indu...   \n",
       "1  B2B, E-Learning, EdTech, Education, Mobile App...   \n",
       "2  E-Commerce, Finance, Financial Services, Inter...   \n",
       "3  Employment, Human Resources, Recruiting, Staff...   \n",
       "4    Financial Services, FinTech, Payments, Software   \n",
       "\n",
       "                                         Description No. of Employees  \\\n",
       "0  Urban is a marketplace for independent contrac...        1001-5000   \n",
       "1  Classplus is a mobile-first SaaS platform that...          101-250   \n",
       "2  Paytm is a payment gateway that allows users a...         501-1000   \n",
       "3  Apna is a professional networking and job-sear...          101-250   \n",
       "4  Razorpay is a payment acceptance, processing, ...        1001-5000   \n",
       "\n",
       "   Funding Amount in $  Funding Round  No. of Investors  \n",
       "0            445920356             12                16  \n",
       "1             89506451             10                20  \n",
       "2             32448851              4                 4  \n",
       "3             93450000              4                 6  \n",
       "4            366600000              7                29  "
      ]
     },
     "execution_count": 6,
     "metadata": {},
     "output_type": "execute_result"
    }
   ],
   "source": [
    "data.head()"
   ]
  },
  {
   "cell_type": "code",
   "execution_count": 7,
   "id": "6b1e65f4",
   "metadata": {},
   "outputs": [
    {
     "data": {
      "text/plain": [
       "Company                0\n",
       "City                   0\n",
       "Starting Year          0\n",
       "Founders               0\n",
       "Industries             0\n",
       "Description            0\n",
       "No. of Employees       0\n",
       "Funding Amount in $    0\n",
       "Funding Round          0\n",
       "No. of Investors       0\n",
       "dtype: int64"
      ]
     },
     "execution_count": 7,
     "metadata": {},
     "output_type": "execute_result"
    }
   ],
   "source": [
    "#Checking if the dataset has null values or not\n",
    "data.isnull().sum()"
   ]
  },
  {
   "cell_type": "markdown",
   "id": "e4f84216",
   "metadata": {},
   "source": [
    "## Data Analysis\n",
    "<div class = \"alert alert-block alert-info\">\n",
    "    <b>Note: This analysis is done to understand the history of startups culture in India.</b>\n",
    "</div>"
   ]
  },
  {
   "cell_type": "code",
   "execution_count": 8,
   "id": "d927892d",
   "metadata": {},
   "outputs": [],
   "source": [
    "import matplotlib.pyplot as plt\n",
    "import collections\n",
    "import pandas as pd\n",
    "import numpy as np"
   ]
  },
  {
   "cell_type": "markdown",
   "id": "42bedab9",
   "metadata": {},
   "source": [
    "### Finding Funding amounts on startups over the years\n",
    "Analyzing the funding amounts on startups over the years is an essential question because it helps us understand the financial landscape of Indian startups and track the trends and patterns in funding. By examining the funding amounts, we can gain insights into the growth and investment patterns in the startup ecosystem."
   ]
  },
  {
   "cell_type": "code",
   "execution_count": 9,
   "id": "3818322c",
   "metadata": {},
   "outputs": [
    {
     "data": {
      "image/png": "[encoded data removed]",
      "text/plain": [
       "<Figure size 432x288 with 1 Axes>"
      ]
     },
     "metadata": {
      "needs_background": "light"
     },
     "output_type": "display_data"
    }
   ],
   "source": [
    "funds = data.groupby('Starting Year')['Funding Amount in $'].sum() #Grouping dataset by starting year on basis of their Total funding amount\n",
    "plt.plot(funds)\n",
    "plt.xlabel(\"Years\")\n",
    "plt.ylabel(\"Reference of Fundings\")\n",
    "plt.title(\"Amount of Fundings spended on Startups\")\n",
    "plt.show()"
   ]
  },
  {
   "cell_type": "markdown",
   "id": "ba21a6fb",
   "metadata": {},
   "source": [
    "Overall, examining the above graph provides valuable insights into the financial dynamics of the Indian startup ecosystem, investor behavior, and the economic impact of startups."
   ]
  },
  {
   "cell_type": "markdown",
   "id": "759afd22",
   "metadata": {},
   "source": [
    "### Classifying startups on the basis of their Origin City\n",
    "Classifying startups based on their origin city is a relevant question as it allows us to understand the geographical distribution of startups in India. By categorizing startups by their origin city, we can identify the major startup hubs, regional trends, and the concentration of entrepreneurial activity in different cities."
   ]
  },
  {
   "cell_type": "code",
   "execution_count": 10,
   "id": "a85395e7",
   "metadata": {
    "scrolled": true
   },
   "outputs": [
    {
     "data": {
      "image/png": "[encoded data removed]",
      "text/plain": [
       "<Figure size 432x288 with 1 Axes>"
      ]
     },
     "metadata": {},
     "output_type": "display_data"
    }
   ],
   "source": [
    "city = data[\"City\"].value_counts()[:9] #This will help to find total number of startups from a city\n",
    "# We are choosing only top 9 cities as after 9th city, further cities has atmost 3 startups. Also it will cluster the chartb\n",
    "plt.pie(city.values,labels = city.index,autopct = \"%.2f%%\")\n",
    "plt.title(\"Number of Startups (CityWise)\")\n",
    "plt.show()"
   ]
  },
  {
   "cell_type": "markdown",
   "id": "10bf9b2e",
   "metadata": {},
   "source": [
    "As we can see in pie chart, Bengaluru has most number of Successful Startups."
   ]
  },
  {
   "cell_type": "markdown",
   "id": "de2e3aa5",
   "metadata": {},
   "source": [
    "### Total Fundings in top cities\n",
    "Calculating the total funding in the top cities is an important question as it allows us to determine the distribution of funding across different cities in India. By analyzing the total funding in top cities, we can identify the cities that attract significant investment and then can understand the factors that contribute to their success as startup hubs."
   ]
  },
  {
   "cell_type": "code",
   "execution_count": 11,
   "id": "cb760aaf",
   "metadata": {
    "scrolled": true
   },
   "outputs": [
    {
     "data": {
      "text/plain": [
       "City\n",
       "Ahmedabad         515970642\n",
       "Andheri            11294388\n",
       "Azadpur             7420000\n",
       "Bengaluru       26207212825\n",
       "Chennai           849120965\n",
       "Delhi              24569257\n",
       "Faridabad         638829632\n",
       "Gurgaon         15827429512\n",
       "Haryana           184794682\n",
       "Hyderabad         557189029\n",
       "Jaipur            108650000\n",
       "Kilpauk           456059601\n",
       "Kolkata            37996690\n",
       "Kormangala       3836092733\n",
       "Mumbai          36055016291\n",
       "New Delhi        1888117254\n",
       "Noida            6134005051\n",
       "Nungambakkam      173773498\n",
       "Patna City         49286284\n",
       "Pune              659265509\n",
       "Sohna              44247827\n",
       "Surat               4923799\n",
       "Thane             166825747\n",
       "Whitefield         21556985\n",
       "Name: Funding Amount in $, dtype: int64"
      ]
     },
     "execution_count": 11,
     "metadata": {},
     "output_type": "execute_result"
    }
   ],
   "source": [
    "cityfunds = data.groupby('City')['Funding Amount in $'].sum()\n",
    "cityfunds"
   ]
  },
  {
   "cell_type": "code",
   "execution_count": 12,
   "id": "90dc3c8b",
   "metadata": {},
   "outputs": [
    {
     "data": {
      "image/png": "[encoded data removed]",
      "text/plain": [
       "<Figure size 432x288 with 1 Axes>"
      ]
     },
     "metadata": {},
     "output_type": "display_data"
    }
   ],
   "source": [
    "# Now we got the total fundings spent in every city, We are picking up the Top Cities and putting them in a dictionary\n",
    "cityfunds = {\"Bengaluru\" : 26207212825 , \"Mumbai\" : 36055016291 , \"Gurgaon\" : 15827429512 , \"New Delhi\" : 1888117254, \"Noida\" : 6134005051,\"Chennai\": 849120965, \"Hyderabad\" : 557189029 , \"Pune\": 659265509, \"Ahmedabad\" : 515970642 }\n",
    "plt.pie(cityfunds.values() , labels = cityfunds.keys() , autopct = \"%.2f%%\")\n",
    "plt.title(\"Funding in cities where most startups are started\")\n",
    "plt.show()"
   ]
  },
  {
   "cell_type": "markdown",
   "id": "8fa16610",
   "metadata": {},
   "source": [
    "As we can see, Even though Bengaluru had most number of startups but Most investment is done in Mumbai."
   ]
  },
  {
   "cell_type": "markdown",
   "id": "386a7fe7",
   "metadata": {},
   "source": [
    "### Startups started each year\n",
    "Determining the number of startups started each year helps us understand the growth and evolution of the startup ecosystem in India over time. By analyzing the number of startups initiated each year, we can further identify trends, periods of growth or decline, and assess the overall health and vibrancy of the startup ecosystem."
   ]
  },
  {
   "cell_type": "code",
   "execution_count": 13,
   "id": "90b0d004",
   "metadata": {
    "scrolled": true
   },
   "outputs": [
    {
     "data": {
      "text/plain": [
       "2015    63\n",
       "2017    29\n",
       "2016    28\n",
       "2012    25\n",
       "2011    22\n",
       "2014    21\n",
       "2019    21\n",
       "2018    18\n",
       "2013    15\n",
       "2010    12\n",
       "2007     8\n",
       "2008     7\n",
       "2020     6\n",
       "2006     5\n",
       "2009     5\n",
       "2000     4\n",
       "2004     2\n",
       "1990     1\n",
       "2001     1\n",
       "1984     1\n",
       "1996     1\n",
       "1999     1\n",
       "1989     1\n",
       "1995     1\n",
       "1998     1\n",
       "1991     1\n",
       "Name: Starting Year, dtype: int64"
      ]
     },
     "execution_count": 13,
     "metadata": {},
     "output_type": "execute_result"
    }
   ],
   "source": [
    "startyear = data[\"Starting Year\"].value_counts()\n",
    "startyear\n",
    "#We had formed a list of number of startups started per year"
   ]
  },
  {
   "cell_type": "code",
   "execution_count": 14,
   "id": "520298a7",
   "metadata": {},
   "outputs": [
    {
     "data": {
      "image/png": "[encoded data removed]",
      "text/plain": [
       "<Figure size 432x288 with 1 Axes>"
      ]
     },
     "metadata": {
      "needs_background": "light"
     },
     "output_type": "display_data"
    }
   ],
   "source": [
    "# Now we are forming a dictionary of last 10 years\n",
    "pi = {\"2011\": 22, \"2012\" : 25,\"2013\": 15,\"2014\" : 21 , \"2015\" : 63,\"2016\": 28,\"2017\" : 29,\"2018\": 18,\"2019\":21,\"2020\": 6 }\n",
    "#Forming a Bar graph for last 10 year successful Startups\n",
    "plt.bar( list(pi.keys()), list(pi.values()))\n",
    "plt.xlabel(\"Past 10 years\",fontsize = 12)\n",
    "plt.ylabel(\"Number of Startups\",fontsize = 12)\n",
    "plt.title(\"Number of Successful Startups Yearwise\",fontsize = 15)\n",
    "plt.show()"
   ]
  },
  {
   "cell_type": "code",
   "execution_count": 15,
   "id": "dae756e8",
   "metadata": {},
   "outputs": [
    {
     "data": {
      "image/png": "[encoded data removed]",
      "text/plain": [
       "<Figure size 432x288 with 1 Axes>"
      ]
     },
     "metadata": {},
     "output_type": "display_data"
    }
   ],
   "source": [
    "# Forming a Pie graph for the same\n",
    "sizes = pi.values()\n",
    "def absolute_value(val): # This function will return exact Number of startups for the pie chart\n",
    "    a  = np.round(val/100.*sum(sizes), 0)\n",
    "    return a\n",
    "plt.pie(pi.values(),labels = pi.keys(),autopct = absolute_value,counterclock=False,startangle = 160)\n",
    "plt.title(\"Number of Successful Startups Yearwise\")\n",
    "plt.show()"
   ]
  },
  {
   "cell_type": "markdown",
   "id": "32a7f7db",
   "metadata": {},
   "source": [
    "As we can see, Number of Startups increased yearwise until 2015 and then decreased."
   ]
  },
  {
   "cell_type": "markdown",
   "id": "fdbb3e02",
   "metadata": {},
   "source": [
    "### Number of Employees in startups\n",
    "Analyzing the number of employees in startups is a pertinent question as it helps us understand the scale of job creation and employment opportunities generated by startups in India. By examining the number of employees in startups, we can gain insights into the workforce dynamics and contribution of startups to the economy."
   ]
  },
  {
   "cell_type": "code",
   "execution_count": 16,
   "id": "83284e9b",
   "metadata": {},
   "outputs": [
    {
     "data": {
      "text/plain": [
       "101-250          63\n",
       "11-50            45\n",
       "1001-5000        44\n",
       "251-500          42\n",
       "51-100           38\n",
       "501-1000         36\n",
       "10001+           12\n",
       "1-10             11\n",
       "5001-10000        8\n",
       "Not Available     1\n",
       "Name: No. of Employees, dtype: int64"
      ]
     },
     "execution_count": 16,
     "metadata": {},
     "output_type": "execute_result"
    }
   ],
   "source": [
    "employees = data[\"No. of Employees\"].value_counts()\n",
    "employees"
   ]
  },
  {
   "cell_type": "markdown",
   "id": "1468bff6",
   "metadata": {},
   "source": [
    "Dataset has a row in which Number of Employees is not available. We can Fill it after surfing Internet or Through Missing value filling methods, but as it is only with a single row, Let's Ignore it."
   ]
  },
  {
   "cell_type": "code",
   "execution_count": 17,
   "id": "027e22ae",
   "metadata": {},
   "outputs": [
    {
     "name": "stdout",
     "output_type": "stream",
     "text": [
      "(array([285], dtype=int64),)\n"
     ]
    }
   ],
   "source": [
    "# Searching the index of that row\n",
    "print(np.where(data[\"No. of Employees\"] == \"Not Available\"))"
   ]
  },
  {
   "cell_type": "code",
   "execution_count": 18,
   "id": "1cc95257",
   "metadata": {},
   "outputs": [
    {
     "data": {
      "text/plain": [
       "Company                                       WOW Skin Science India Ltd\n",
       "City                                                           Bengaluru\n",
       "Starting Year                                                       2016\n",
       "Founders                                                   Not Available\n",
       "Industries                    Beauty, Consumer Goods, Cosmetics, Fashion\n",
       "Description            WOW Skin Science is a line of anti-aging produ...\n",
       "No. of Employees                                           Not Available\n",
       "Funding Amount in $                                                    0\n",
       "Funding Round                                                          0\n",
       "No. of Investors                                                       0\n",
       "Name: 285, dtype: object"
      ]
     },
     "execution_count": 18,
     "metadata": {},
     "output_type": "execute_result"
    }
   ],
   "source": [
    "# Confirming if the 285th index is the right one or not\n",
    "data.iloc[285]"
   ]
  },
  {
   "cell_type": "code",
   "execution_count": 19,
   "id": "723abc6a",
   "metadata": {},
   "outputs": [],
   "source": [
    "# As we confirmed that the index is correct, We are deleting it from the DataSet\n",
    "data.drop(285,axis=0,inplace=True)"
   ]
  },
  {
   "cell_type": "code",
   "execution_count": 20,
   "id": "aa832ca0",
   "metadata": {},
   "outputs": [
    {
     "data": {
      "text/plain": [
       "101-250       63\n",
       "11-50         45\n",
       "1001-5000     44\n",
       "251-500       42\n",
       "51-100        38\n",
       "501-1000      36\n",
       "10001+        12\n",
       "1-10          11\n",
       "5001-10000     8\n",
       "Name: No. of Employees, dtype: int64"
      ]
     },
     "execution_count": 20,
     "metadata": {},
     "output_type": "execute_result"
    }
   ],
   "source": [
    "# Categorising Number of employees on the basis of total number of startups\n",
    "employees = data[\"No. of Employees\"].value_counts()\n",
    "employees"
   ]
  },
  {
   "cell_type": "code",
   "execution_count": 21,
   "id": "e1753d1c",
   "metadata": {},
   "outputs": [
    {
     "data": {
      "image/png": "[encoded data removed]",
      "text/plain": [
       "<Figure size 432x288 with 1 Axes>"
      ]
     },
     "metadata": {},
     "output_type": "display_data"
    }
   ],
   "source": [
    "plt.pie(employees.values,labels = employees.index,autopct = \"%.2f%%\")\n",
    "plt.title(\"Number of employees in startups\")\n",
    "plt.show()"
   ]
  },
  {
   "cell_type": "markdown",
   "id": "325b8f1e",
   "metadata": {},
   "source": [
    "After understanding the above graph, We can realise that most startups in India has working force of 101-250."
   ]
  },
  {
   "cell_type": "markdown",
   "id": "44a1267a",
   "metadata": {},
   "source": [
    "####  I sincerely hope that the findings from this analysis will serve as a foundation for further exploration, discussion, and decision-making in the realm of Indian startups. May this knowledge inspire and empower you in your own entrepreneurial pursuits or in supporting the growth of startups in India.\n",
    "### Thank You"
   ]
  }
 ],
 "metadata": {
  "kernelspec": {
   "display_name": "Python 3 (ipykernel)",
   "language": "python",
   "name": "python3"
  },
  "language_info": {
   "codemirror_mode": {
    "name": "ipython",
    "version": 3
   },
   "file_extension": ".py",
   "mimetype": "text/x-python",
   "name": "python",
   "nbconvert_exporter": "python",
   "pygments_lexer": "ipython3",
   "version": "3.9.12"
  }
 },
 "nbformat": 4,
 "nbformat_minor": 5
}
